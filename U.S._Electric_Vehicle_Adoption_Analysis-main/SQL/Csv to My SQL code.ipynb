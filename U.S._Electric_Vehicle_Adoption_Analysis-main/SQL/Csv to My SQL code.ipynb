{
 "cells": [
  {
   "cell_type": "markdown",
   "id": "0ac8a984-2b79-4d32-a85f-3652b8c449c5",
   "metadata": {},
   "source": [
    "### *Data Loading*\n",
    "\n",
    "Loaded the EV dataset (`CSV`) into MySQL Workbench.\n",
    "\n",
    "**Steps:**\n",
    "1. Install dependencies: `pip install pandas sqlalchemy pymysql`\n",
    "2. Import required packages: `import pandas as pd` and `from sqlalchemy import create_engine`\n",
    "3. Define MySQL connection details and the CSV file path.\n",
    "4. Read the CSV into a Pandas DataFrame:  \n",
    "   `df = pd.read_csv(r'E:\\Data Analyst 2025\\Resume Projects\\1. Evolution Insight US EV Trends\\EvolutionInsight_US_EV_Trends.csv')`\n",
    "5. Create a connection engine to MySQL and upload the DataFrame into the target table using `to_sql()` (replaces the table if it exists). This ensures all rows are loaded into MySQL for further analysis.\n",
    "6. Confirm upload success with: `print(\"✅ Data uploaded successfully!\")`"
   ]
  },
  {
   "cell_type": "markdown",
   "id": "20cd1d1c-0124-4f86-8cbd-b726b1a74714",
   "metadata": {},
   "source": [
    "### *Database Automation*\n",
    "#### *Automate MySQL workflows using Pandas*"
   ]
  },
  {
   "cell_type": "code",
   "execution_count": 1,
   "id": "dfca6c9e-734b-4cd3-ad47-b48da4459bfa",
   "metadata": {},
   "outputs": [
    {
     "name": "stdout",
     "output_type": "stream",
     "text": [
      "Requirement already satisfied: pandas in c:\\users\\asus\\anaconda3\\lib\\site-packages (2.2.3)\n",
      "Requirement already satisfied: sqlalchemy in c:\\users\\asus\\anaconda3\\lib\\site-packages (2.0.39)\n",
      "Requirement already satisfied: pymysql in c:\\users\\asus\\anaconda3\\lib\\site-packages (1.1.1)\n",
      "Requirement already satisfied: numpy>=1.26.0 in c:\\users\\asus\\anaconda3\\lib\\site-packages (from pandas) (1.26.4)\n",
      "Requirement already satisfied: python-dateutil>=2.8.2 in c:\\users\\asus\\anaconda3\\lib\\site-packages (from pandas) (2.9.0.post0)\n",
      "Requirement already satisfied: pytz>=2020.1 in c:\\users\\asus\\anaconda3\\lib\\site-packages (from pandas) (2024.1)\n",
      "Requirement already satisfied: tzdata>=2022.7 in c:\\users\\asus\\anaconda3\\lib\\site-packages (from pandas) (2023.3)\n",
      "Requirement already satisfied: greenlet!=0.4.17 in c:\\users\\asus\\anaconda3\\lib\\site-packages (from sqlalchemy) (3.0.1)\n",
      "Requirement already satisfied: typing-extensions>=4.6.0 in c:\\users\\asus\\anaconda3\\lib\\site-packages (from sqlalchemy) (4.11.0)\n",
      "Requirement already satisfied: six>=1.5 in c:\\users\\asus\\anaconda3\\lib\\site-packages (from python-dateutil>=2.8.2->pandas) (1.16.0)\n",
      "Note: you may need to restart the kernel to use updated packages.\n"
     ]
    }
   ],
   "source": [
    "pip install pandas sqlalchemy pymysql"
   ]
  },
  {
   "cell_type": "code",
   "execution_count": 2,
   "id": "104f52af-ee8d-470a-9943-e3b40ac85f12",
   "metadata": {},
   "outputs": [
    {
     "name": "stdout",
     "output_type": "stream",
     "text": [
      "Data uploaded successfully!\n"
     ]
    }
   ],
   "source": [
    "import pandas as pd\n",
    "from sqlalchemy import create_engine\n",
    "\n",
    "# MySQL connection info\n",
    "host = 'localhost'\n",
    "user = 'root'           \n",
    "password = '0231'\n",
    "database = 'U_S_Electric_Vehicle_Adoption_Analysis'\n",
    "table_name = 'ev_trends'\n",
    "\n",
    "# CSV path (use raw string to handle backslashes and spaces)\n",
    "csv_file_path = r'E:\\Data Analyst 2025\\Resume Projects\\1. Evolution Insight US EV Trends\\EvolutionInsight_US_EV_Trends.csv'\n",
    "\n",
    "# Load CSV\n",
    "df = pd.read_csv(csv_file_path)\n",
    "\n",
    "# Create engine\n",
    "engine = create_engine(f'mysql+pymysql://{user}:{password}@{host}/{database}')\n",
    "\n",
    "# Upload DataFrame to MySQL table\n",
    "df.to_sql(name=table_name, con=engine, if_exists='replace', index=False)\n",
    "\n",
    "print(\"Data uploaded successfully!\")"
   ]
  }
 ],
 "metadata": {
  "kernelspec": {
   "display_name": "Python 3 (ipykernel)",
   "language": "python",
   "name": "python3"
  },
  "language_info": {
   "codemirror_mode": {
    "name": "ipython",
    "version": 3
   },
   "file_extension": ".py",
   "mimetype": "text/x-python",
   "name": "python",
   "nbconvert_exporter": "python",
   "pygments_lexer": "ipython3",
   "version": "3.12.7"
  }
 },
 "nbformat": 4,
 "nbformat_minor": 5
}
